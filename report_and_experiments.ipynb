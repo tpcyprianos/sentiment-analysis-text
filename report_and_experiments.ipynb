{
 "cells": [
  {
   "cell_type": "markdown",
   "metadata": {},
   "source": [
    "# T2 - Text Analysis using Natural Language Processing "
   ]
  },
  {
   "cell_type": "markdown",
   "metadata": {},
   "source": [
    "## Problem\n",
    "The problem selected was the first option: \"Problema 1 - Determinação de Valência em Manchetes de Jornais Brasileiros no 1° Semestre de 2017\"."
   ]
  },
  {
   "cell_type": "markdown",
   "metadata": {},
   "source": [
    "### Dataset\n",
    "The datase used in this experiment is avaliable in [Manchetes de Jornais Brasileiros](https://github.com/pdpcosta/manchetesBrasildatabase)\n",
    "The dataset has 5 columns:\n",
    "* Day \n",
    "* Month \n",
    "* Year\n",
    "* Newspaper names\n",
    "* Headlines"
   ]
  },
  {
   "cell_type": "markdown",
   "metadata": {},
   "source": [
    "## Approach\n",
    "\n",
    "The Classifier selected was [Bayes Naive](http://scikit-learn.org/stable/modules/naive_bayes.html). As my first implementation, I decided this one, because of the simplicity and documentation avaliable (easy to find documentation, tutorials and examples). \n",
    "Besides that, I found an interesting example using a portuguese train dataset labeled ('Positive', 'Neutral' and 'Negative'). The example is available in [Md Repo](https://github.com/minerandodados/mdrepo).\n",
    "\n",
    "The Bayes Naive Classifier uses Bayes Theorem to predict the probability that a given feature set belongs to a particular label. The implementation presented here uses the Extraction Feature **tf-idf**\n",
    "\n",
    "### Language and Libraries\n",
    "For running the experiments the following languages and libraries were selected:\n",
    "\n",
    "1. Environment: [Anaconda3 4.3.1](https://repo.continuum.io/archive/index.html)\n",
    "2. Programming Language: [Python 3.3](https://www.python.org/) \n",
    "3. Dataframe Library: [Panda 0.19.2](http://pandas.pydata.org/).\n",
    "4. Natural Language: [NLTK 3.2.4](http://www.nltk.org/)\n",
    "5. Machine Learning: [Scikit-learn](http://scikit-learn.org/stable/index.html)\n"
   ]
  },
  {
   "cell_type": "markdown",
   "metadata": {},
   "source": [
    "## Experiment Implementation"
   ]
  },
  {
   "cell_type": "code",
   "execution_count": null,
   "metadata": {
    "collapsed": false
   },
   "outputs": [],
   "source": [
    "import nltk\n",
    "#nltk.download()\n",
    "import pandas as pd\n",
    "import numpy as np\n",
    "from nltk.corpus import stopwords\n",
    "from nltk.stem import PorterStemmer\n",
    "import re\n",
    "from sklearn.feature_extraction.text import CountVectorizer\n",
    "from sklearn.naive_bayes import MultinomialNB\n",
    "from sklearn import metrics\n",
    "from sklearn.model_selection import cross_val_predict"
   ]
  },
  {
   "cell_type": "markdown",
   "metadata": {},
   "source": [
    "### Preprocessing\n",
    "The preprocessing steps were:\n",
    "1. Replace the character separator comma (Problems with quantity of columns) \n",
    "2. Clean special caracteres\n",
    "3. Tokenize the sentences\n",
    "4. Delete the stop words"
   ]
  },
  {
   "cell_type": "markdown",
   "metadata": {},
   "source": [
    "#### Openning dataset and replace separator"
   ]
  },
  {
   "cell_type": "code",
   "execution_count": null,
   "metadata": {
    "collapsed": true
   },
   "outputs": [],
   "source": [
    "datasetNews = open(\"manchetesBrasildatabase.csv\", mode=\"r\", encoding=\"utf-8\")\n",
    "datasetNewsPreprocessed = open(\"manchetesBrasildatabaseProcessada.csv\", mode=\"w\", encoding=\"utf-8\")\n",
    "\n",
    "for row in datasetNews:\n",
    "     \n",
    "    tupleNews = str(row)\n",
    "    \n",
    "    tupleNews = tupleNews.replace(\",\",\"|\")\n",
    "    \n",
    "    separatedRow = tupleNews.split(\"|\")\n",
    "\n",
    "    if len(separatedRow) > 5:\n",
    "        titleNews = \"\"\n",
    "        count = 4\n",
    "        while count < len(separatedRow):\n",
    "            titleNews += separatedRow[count]\n",
    "            if (count < len(separatedRow)-1):\n",
    "                titleNews += \", \"\n",
    "            count+=1\n",
    "        separatedRow[4] = titleNews\n",
    "        \n",
    "    tuplePreprocessed = separatedRow[0] + \" | \" + separatedRow[1] + \" | \" + separatedRow[2] \\\n",
    "                        + \" | \" + separatedRow[3] + \" | \" + separatedRow[4]\n",
    "    \n",
    "    datasetNewsPreprocessed.write(tuplePreprocessed)\n",
    "\n",
    "datasetNews.close()\n",
    "datasetNewsPreprocessed.close()"
   ]
  },
  {
   "cell_type": "markdown",
   "metadata": {},
   "source": [
    "#### Openning the preprocessed dataset"
   ]
  },
  {
   "cell_type": "code",
   "execution_count": null,
   "metadata": {
    "collapsed": false
   },
   "outputs": [],
   "source": [
    "datasetInFrame = pd.read_csv(\"manchetesBrasildatabaseProcessada.csv\",header=None, sep=\"|\")"
   ]
  },
  {
   "cell_type": "code",
   "execution_count": null,
   "metadata": {
    "collapsed": true
   },
   "outputs": [],
   "source": [
    "datasetInFrame.columns =['Dia', 'Mês', 'Ano', 'Jornal', 'Título']"
   ]
  },
  {
   "cell_type": "code",
   "execution_count": null,
   "metadata": {
    "collapsed": false
   },
   "outputs": [],
   "source": [
    "datasetInFrame.describe()"
   ]
  },
  {
   "cell_type": "markdown",
   "metadata": {},
   "source": [
    "#### Cleaning special characteres"
   ]
  },
  {
   "cell_type": "code",
   "execution_count": null,
   "metadata": {
    "collapsed": false
   },
   "outputs": [],
   "source": [
    "sentences = [ str(sentence).lower().replace(\"'\",\"\").replace(\".\",\"\").replace(\",\",\"\") for sentence in datasetInFrame[\"Título\"]]"
   ]
  },
  {
   "cell_type": "markdown",
   "metadata": {},
   "source": [
    "#### Tokenizing the sentences"
   ]
  },
  {
   "cell_type": "code",
   "execution_count": null,
   "metadata": {
    "collapsed": false
   },
   "outputs": [],
   "source": [
    "#portuguese_tokenizer = nltk.data.load('tokenizers/punkt/portuguese.pickle')\n",
    "\n",
    "sentencesWithTokens = [nltk.word_tokenize(sentence.lower()) for sentence in sentences]"
   ]
  },
  {
   "cell_type": "markdown",
   "metadata": {},
   "source": [
    "#### Deleting Stop Words"
   ]
  },
  {
   "cell_type": "code",
   "execution_count": null,
   "metadata": {
    "collapsed": false
   },
   "outputs": [],
   "source": [
    "stop_words = stopwords.words('portuguese')\n",
    "\n",
    "sentencesWithoutStopWords = [word for word in sentencesWithTokens if word not in stop_words]\n",
    "\n",
    "sentencesWithoutStopWords = []\n",
    "\n",
    "#Navegando no conjunto de dados\n",
    "for row in sentencesWithTokens:\n",
    "    sentence = []\n",
    "    for word in row:\n",
    "        if not word in stop_words:\n",
    "            sentence.append(word)\n",
    "    #print(sentence)\n",
    "    sentencesWithoutStopWords.append(sentence)"
   ]
  },
  {
   "cell_type": "code",
   "execution_count": null,
   "metadata": {
    "collapsed": false
   },
   "outputs": [],
   "source": [
    "#sentencesWithoutStopWords\n",
    "#nltk.corpus.mac_morpho.words()\n",
    "#tags = nltk.pos_tag(sentencesWithTokens[1])"
   ]
  },
  {
   "cell_type": "code",
   "execution_count": null,
   "metadata": {
    "collapsed": false
   },
   "outputs": [],
   "source": [
    "nltk.corpus.mac_morpho.words()\n",
    "\n",
    "tsents = nltk.corpus.mac_morpho.tagged_sents()\n",
    "train = tsents[100:]\n",
    "test = tsents[:100]\n"
   ]
  },
  {
   "cell_type": "markdown",
   "metadata": {},
   "source": [
    "## Classification - Using Bayes Naive\n",
    "Source: [Md Repo](https://github.com/minerandodados/mdrepo)\n",
    "The dataset used to train the classifier is composed by 9817 Tweets labeled with \"Positivo\", \"Neutro\" and \"Negativo\"."
   ]
  },
  {
   "cell_type": "code",
   "execution_count": 211,
   "metadata": {
    "collapsed": true
   },
   "outputs": [],
   "source": [
    "datasetLabeled = pd.read_csv('Tweets_Mg.csv',encoding='utf-8')"
   ]
  },
  {
   "cell_type": "code",
   "execution_count": 219,
   "metadata": {
    "collapsed": false
   },
   "outputs": [
    {
     "data": {
      "text/plain": [
       "Unnamed: 0                   2453\n",
       "Created At                   2453\n",
       "Text                         2453\n",
       "Geo Coordinates.latitude      102\n",
       "Geo Coordinates.longitude     102\n",
       "User Location                1712\n",
       "Username                     2453\n",
       "User Screen Name             2453\n",
       "Retweet Count                2453\n",
       "Classificacao                2453\n",
       "Observação                      0\n",
       "Unnamed: 10                     0\n",
       "Unnamed: 11                     0\n",
       "Unnamed: 12                     0\n",
       "Unnamed: 13                     0\n",
       "Unnamed: 14                     0\n",
       "Unnamed: 15                     0\n",
       "Unnamed: 16                     0\n",
       "Unnamed: 17                     0\n",
       "Unnamed: 18                     0\n",
       "Unnamed: 19                     0\n",
       "Unnamed: 20                     0\n",
       "Unnamed: 21                     0\n",
       "Unnamed: 22                     0\n",
       "Unnamed: 23                     0\n",
       "Unnamed: 24                     0\n",
       "dtype: int64"
      ]
     },
     "execution_count": 219,
     "metadata": {},
     "output_type": "execute_result"
    }
   ],
   "source": [
    "datasetLabeled[datasetLabeled.Classificacao=='Neutro'].count()"
   ]
  },
  {
   "cell_type": "code",
   "execution_count": 215,
   "metadata": {
    "collapsed": false
   },
   "outputs": [
    {
     "data": {
      "text/plain": [
       "Unnamed: 0                   3300\n",
       "Created At                   3300\n",
       "Text                         3300\n",
       "Geo Coordinates.latitude        1\n",
       "Geo Coordinates.longitude       1\n",
       "User Location                2118\n",
       "Username                     3300\n",
       "User Screen Name             3300\n",
       "Retweet Count                3300\n",
       "Classificacao                3300\n",
       "Observação                      1\n",
       "Unnamed: 10                     0\n",
       "Unnamed: 11                     0\n",
       "Unnamed: 12                     0\n",
       "Unnamed: 13                     0\n",
       "Unnamed: 14                     0\n",
       "Unnamed: 15                     0\n",
       "Unnamed: 16                     0\n",
       "Unnamed: 17                     0\n",
       "Unnamed: 18                     0\n",
       "Unnamed: 19                     0\n",
       "Unnamed: 20                     0\n",
       "Unnamed: 21                     0\n",
       "Unnamed: 22                     0\n",
       "Unnamed: 23                     0\n",
       "Unnamed: 24                     0\n",
       "dtype: int64"
      ]
     },
     "execution_count": 215,
     "metadata": {},
     "output_type": "execute_result"
    }
   ],
   "source": [
    "datasetLabeled[datasetLabeled.Classificacao=='Positivo'].count()"
   ]
  },
  {
   "cell_type": "code",
   "execution_count": 216,
   "metadata": {
    "collapsed": false
   },
   "outputs": [
    {
     "data": {
      "text/plain": [
       "Unnamed: 0                   2446\n",
       "Created At                   2446\n",
       "Text                         2446\n",
       "Geo Coordinates.latitude        1\n",
       "Geo Coordinates.longitude       1\n",
       "User Location                1659\n",
       "Username                     2446\n",
       "User Screen Name             2446\n",
       "Retweet Count                2446\n",
       "Classificacao                2446\n",
       "Observação                      0\n",
       "Unnamed: 10                     0\n",
       "Unnamed: 11                     0\n",
       "Unnamed: 12                     0\n",
       "Unnamed: 13                     0\n",
       "Unnamed: 14                     0\n",
       "Unnamed: 15                     0\n",
       "Unnamed: 16                     0\n",
       "Unnamed: 17                     0\n",
       "Unnamed: 18                     0\n",
       "Unnamed: 19                     0\n",
       "Unnamed: 20                     0\n",
       "Unnamed: 21                     0\n",
       "Unnamed: 22                     0\n",
       "Unnamed: 23                     0\n",
       "Unnamed: 24                     0\n",
       "dtype: int64"
      ]
     },
     "execution_count": 216,
     "metadata": {},
     "output_type": "execute_result"
    }
   ],
   "source": [
    "datasetLabeled[datasetLabeled.Classificacao=='Negativo'].count()"
   ]
  },
  {
   "cell_type": "code",
   "execution_count": 220,
   "metadata": {
    "collapsed": true
   },
   "outputs": [],
   "source": [
    "tweets = datasetLabeled['Text'].values\n",
    "classes = datasetLabeled['Classificacao'].values"
   ]
  },
  {
   "cell_type": "markdown",
   "metadata": {},
   "source": [
    "### Multinomial Naive Bayse\n",
    "\n",
    "The multinomial Naive Bayes classifier is suitable for classification with discrete features (e.g., word counts for text classification). The multinomial distribution normally requires integer feature counts."
   ]
  },
  {
   "cell_type": "code",
   "execution_count": 234,
   "metadata": {
    "collapsed": false
   },
   "outputs": [
    {
     "data": {
      "text/plain": [
       "CountVectorizer(analyzer='word', binary=False, decode_error='strict',\n",
       "        dtype=<class 'numpy.int64'>, encoding='utf-8', input='content',\n",
       "        lowercase=True, max_df=1.0, max_features=None, min_df=1,\n",
       "        ngram_range=(1, 1), preprocessor=None, stop_words=None,\n",
       "        strip_accents=None, token_pattern='(?u)\\\\b\\\\w\\\\w+\\\\b',\n",
       "        tokenizer=None, vocabulary=None)"
      ]
     },
     "execution_count": 234,
     "metadata": {},
     "output_type": "execute_result"
    }
   ],
   "source": [
    "vectorizer = CountVectorizer(analyzer=\"word\")\n",
    "freq_tweets = vectorizer.fit_transform(tweets)\n",
    "model = MultinomialNB()\n",
    "model.fit(freq_tweets,classes)"
   ]
  },
  {
   "cell_type": "code",
   "execution_count": 230,
   "metadata": {
    "collapsed": false
   },
   "outputs": [],
   "source": [
    "# From News Dataset\n",
    "# sentences"
   ]
  },
  {
   "cell_type": "code",
   "execution_count": 231,
   "metadata": {
    "collapsed": true
   },
   "outputs": [],
   "source": [
    "freq_tests = vectorizer.transform(sentences)"
   ]
  },
  {
   "cell_type": "code",
   "execution_count": 232,
   "metadata": {
    "collapsed": false
   },
   "outputs": [],
   "source": [
    "prediction = modelo.predict(freq_tests)"
   ]
  },
  {
   "cell_type": "markdown",
   "metadata": {},
   "source": [
    "### Results"
   ]
  },
  {
   "cell_type": "code",
   "execution_count": 233,
   "metadata": {
    "collapsed": false
   },
   "outputs": [
    {
     "name": "stdout",
     "output_type": "stream",
     "text": [
      "' bndes encolhe e volta ao nível de 20 anos atrás' - valence: Neutro\n",
      "' bc cria novo instrumento de política monetária' - valence: Neutro\n",
      "' câmbio gera bate-boca entre ua e ue' - valence: Neutro\n",
      "' indenização a transmissoras de energia já chega à tarifa' - valence: Neutro\n",
      "' políticos esperam que relator separe \"joio do trigo\"' - valence: Neutro\n",
      "' philips quer administrar hospitais públicos no brasil' - valence: Neutro\n",
      "' com vendas em queda  c&amp;c muda lojas e troca diretoria' - valence: Neutro\n",
      "' fachin poderá ir para turma que julga lava-jato' - valence: Neutro\n",
      "' eike tem multas que superam fundo para prisões' - valence: Positivo\n",
      "' operador pagou decoração de luxo de imóveis de cabral' - valence: Neutro\n",
      "' drama do desemprego está longe de diminuir' - valence: Negativo\n",
      "' bc prevê queda da inflação a 3%' - valence: Positivo\n",
      "' boicote atrasa governo trump' - valence: Negativo\n",
      "' crivella negocia vila dos atletas' - valence: Positivo\n",
      "' crise amplia diferença de salário entre clt e servidor' - valence: Neutro\n",
      "' governo faz cortes após déficit recorde de r$ 155 7 bilhões' - valence: Neutro\n",
      "' vitória é dada como certa no senado  e pmdb mira comissão' - valence: Neutro\n",
      "' operador diz que repatriou propina de eike a cabral' - valence: Neutro\n",
      "' doria quer punir pichadores com multa pesada e trabalho de gari' - valence: Neutro\n",
      "' pedro parente: brasil não deveria ter desapreço ao capital estrangeiro' - valence: Neutro\n",
      "' trump indica juiz conservador para a suprema corte' - valence: Neutro\n",
      "' obter visto para os eua fica mais difícil para os brasileiros' - valence: Neutro\n",
      "' financiamentos do bndes têm maior queda em 22 anos' - valence: Positivo\n",
      "' sorteio na 2ª turma do stf definirá relator da lava-jato' - valence: Neutro\n",
      "' desemprego atinge 12%' - valence: Positivo\n",
      "' trump põe juiz conservador na suprema corte americana' - valence: Neutro\n",
      "' brasil e eua definem nomes de monitores da odebrecht' - valence: Neutro\n",
      "' mais brasileiros terão de fazer entrevista para visto' - valence: Neutro\n",
      "' indenização a teles por bens reversíveis custaria r$ 20 bi' - valence: Neutro\n",
      "' supervia não paga e pede indenização' - valence: Neutro\n",
      "' para alemanha  agenda do clima resiste a trump' - valence: Neutro\n",
      "' governo macri foi \"ingênuo\" sobre volta dos investimentos' - valence: Negativo\n",
      "' doria atribui doações a altruísmo empresarial' - valence: Neutro\n",
      "' investimentos das estatais devem ter execução recorde' - valence: Neutro\n",
      "' xp fica cada vez mais distante de suas origens' - valence: Neutro\n",
      "' fé da mangueira leva estandarte' - valence: Neutro\n",
      "' mp vai exigir regras de segurança para alegorias' - valence: Neutro\n",
      "' o carnaval de peito aberto dos blocos' - valence: Neutro\n",
      "' trump agora acena com legalização de imigrantes' - valence: Neutro\n",
      "' sem padilha  temer assume articulação de reformas' - valence: Neutro\n",
      "' conheça as mudanças na declaração do ir' - valence: Neutro\n",
      "' comissão rejeita pilares da nova previdência' - valence: Neutro\n",
      "' propostas radicais têm chance política' - valence: Neutro\n",
      "' elio gaspari: presidente bate recorde em perda de colaboradores' - valence: Neutro\n",
      "' hélio schwartsman: puxadinho vira estratégia para evitar confrontos' - valence: Neutro\n",
      "' no desempate  tatuapé vence pela 1ª vez em sp&nbsp;' - valence: Neutro\n",
      "' trump pode desistir de expulsar ilegais sem crime grave' - valence: Neutro\n",
      "' maioria da torcida em sp não sabe nome de jogador' - valence: Neutro\n",
      "' crédito para famílias supera pela primeira vez o de empresas' - valence: Neutro\n",
      "' protecionismo de trump pode afetar o brasil  diz azevêdo' - valence: Neutro\n",
      "' janor pede que aécio seja ouvido sobre furnas no stf' - valence: Neutro\n",
      "' tatuapé comemora um título inédito' - valence: Neutro\n",
      "' acidentes ferem 32 na sapucaí' - valence: Positivo\n",
      "' rede fnac vai deixar o país' - valence: Neutro\n",
      "' doria anuncia o nota do milhão' - valence: Neutro\n",
      "' donos da jbs assumem ônus do acordo de leniência' - valence: Neutro\n",
      "' novo refis traz descontos em juros e multas' - valence: Positivo\n",
      "' crise leva bc a reduzir ritmo de corte de juro' - valence: Neutro\n",
      "' corrupção distorce competição  diz iedi' - valence: Neutro\n",
      "' tucanos da câmara e de sp querem romper com temer' - valence: Neutro\n",
      "' latam reforça busca de rentabilidade' - valence: Positivo\n",
      "' ministro tem posse esvaziada  e temer sofre revés no stf' - valence: Neutro\n",
      "' senadores amenizam fim do foro privilegiado' - valence: Neutro\n",
      "' senado aprova eleições diretas' - valence: Neutro\n",
      "' marco aurélio levará pedido de prisão de aécio ao plenário' - valence: Neutro\n",
      "' em áudio  tucano tenta interferir na delação da andrade gutierrez' - valence: Neutro\n",
      "' joesley deu dinheiro a firma da qual filho de mantega foi sócio' - valence: Negativo\n",
      "' jbs faz acordo para pagar r$ 10 3 bi em 25 anos; ações sobem' - valence: Neutro\n",
      "' incerteza leva bc a cortar menos os juros' - valence: Neutro\n",
      "' o passado bate à porta' - valence: Neutro\n",
      "' andreas von richthofen: a vida pelo avesso' - valence: Negativo\n",
      "' facção ordena morte de agentes' - valence: Neutro\n",
      "'  bc cita impacto da crise e diz que juro cairá menos' - valence: Neutro\n",
      "' planalto aponta \"falha sistêmica\" na diplomacia' - valence: Neutro\n",
      "' em um ano  país ganha 2 6 milhões de desempregados' - valence: Negativo\n",
      "' governo prevê dívida fixa e fim de carência no fies' - valence: Negativo\n",
      "' novo ministro da justiça sinaliza que comando da pf será trocado' - valence: Neutro\n",
      "' em acordo  dona da jbs obtém prazo e juros favoráveis' - valence: Neutro\n",
      "' senado aprova fim do foro  mas blinda político de prisão' - valence: Neutro\n",
      "' ala do psdb articula saída do governo antes de julgamento' - valence: Negativo\n",
      "' fachin mantém depoimento de temer' - valence: Neutro\n",
      "' bc reduz selic para 10 25% e indica ritmo menor de corte' - valence: Neutro\n",
      "' atentado mata 90 pessoas em cabul' - valence: Neutro\n",
      "' teatro municipal de sp deve &nbsp;r$ 1 6 milhão a estrangeiros' - valence: Neutro\n",
      "' citado em delação vai dirigir fundo do fgts' - valence: Positivo\n",
      "' trump deve desistir de acordo climático' - valence: Neutro\n",
      "' reforma moderniza lei e dá mais poder a sindicatos' - valence: Neutro\n",
      "' eua vão fiscalizar odebrecht e braskem' - valence: Neutro\n",
      "' temer: nunca caí de pinguela' - valence: Neutro\n",
      "' saque do fgts não terá limite' - valence: Negativo\n",
      "' violência no rio: assassinatos sobem 41 37%' - valence: Neutro\n",
      "' câmara provoca forte reação ao desfigurar pacote anticorrupção' - valence: Neutro\n",
      "' país deve enfrentar a recessão mais intensa' - valence: Neutro\n",
      "' colômbia confirma que avião não tinha combustível ao cair' - valence: Neutro\n",
      "' recessão prolongada no país eleva pessimismo sobre 2017' - valence: Neutro\n",
      "' \"falha elétrica total  sem combustível\"  avisou piloto' - valence: Positivo\n",
      "' pasquale cipro neto: tragédia do torino povoa imaginário desde a infância' - valence: Neutro\n",
      "' senado nega apoio à câmara em embate com stf sobre aborto' - valence: Neutro\n",
      "' após ameaça renan perde em manobra contra lava-jato' - valence: Neutro\n",
      "' presidente temer corre risco de não chegar a 2018  diz joaquim barbosa' - valence: Neutro\n",
      "' regime de cuba é o que mais matou na américa ' - valence: Neutro\n",
      "' força-tarefa ameaça abandonar lava-jato; aumenta tensão entre poderes' - valence: Neutro\n",
      "' renan tenta votar medidas  mas fracassa' - valence: Neutro\n",
      "' a volta dos panelaços: protestos agora miram congresso' - valence: Neutro\n",
      "' falta de combustível derrubou avião  diz colômbia' - valence: Neutro\n",
      "' pib cai pelo sétimo trimestre seguido; projeções pioram' - valence: Neutro\n",
      "' \"falha total  falha elétrica total\"  avisou piloto à torre' - valence: Positivo\n",
      "' empresa lamia teve 4 voos negados no brasil ' - valence: Positivo\n",
      "' barroso pede \"políticas melhores\" sobre aborto' - valence: Neutro\n",
      "' entidades criticam quebra de sigilo de jornalista' - valence: Negativo\n",
      "' congresso colombiano ratifica acordo com farc' - valence: Neutro\n",
      "' agronegócio volta a investir para produzir safra recorde' - valence: Neutro\n",
      "' brasil tenta resistir ao avanço chinês' - valence: Neutro\n",
      "' prefeitos assumem para administrar crise' - valence: Neutro\n",
      "' grupos contra trump vão protestar no dia da posse' - valence: Neutro\n",
      "' inteligência artificial dita os avanços da ti' - valence: Neutro\n",
      "' investidor influencia pouco a reforma do novo mercado' - valence: Neutro\n",
      "' população de idosos cresce mai na al' - valence: Neutro\n",
      "' crivella anuncia corte de gastos e mudanças no iptu' - valence: Neutro\n",
      "' a volta do pastor: em nome de deus e do tio' - valence: Neutro\n",
      "' alguns dos decretos' - valence: Neutro\n",
      "' na baixada  posses em meio a crises e até calamidade' - valence: Negativo\n",
      "' austeridade é a promessa dos novos prefeitos' - valence: Neutro\n",
      "' em sp  cerimônia alckmista' - valence: Positivo\n",
      "' doria prega conciliação e diz que recuará quando preciso' - valence: Neutro\n",
      "' homem mata a tiros ex-mulher  filho e mais dez' - valence: Neutro\n",
      "' ataque deixa 39 mortos em clube em istambul' - valence: Neutro\n",
      "' ronaldo lemos: estados ignoram privacidade de contribuintes' - valence: Neutro\n",
      "' crise econômica afeta inovação das empresas' - valence: Neutro\n",
      "' mônica bergamo: fiesp projeta um impulso maior da indústria em 2017' - valence: Neutro\n",
      "' entrevista na 2ª: james t hamilton: sociedade lucra com jornalismo investigativo' - valence: Neutro\n",
      "' prefeitos tomam posse com discurso contra gasto e cargos' - valence: Positivo\n",
      "' doria deixa privatizações para 2018' - valence: Neutro\n",
      "' \"reforma da previdência será aprovada no 1º semestre\"' - valence: Neutro\n",
      "' turquia caça atirador que matou 39 em boate' - valence: Neutro\n",
      "' homem mata ex  filho e mais dez em réveillon' - valence: Neutro\n",
      "' brasileiros vão para o paraguai abrir fábricas' - valence: Neutro\n",
      "' cenário é favorável à retomada' - valence: Positivo\n",
      "' construtoras da lava-jato legalizam dinheiro sujo' - valence: Neutro\n",
      "' mcdermott: de garoto pobre a executivo de primeira linha' - valence: Neutro\n",
      "' delações privilegiam \"tubarões\"' - valence: Positivo\n",
      "' trabalhador rural pode vir a ser pago com casa' - valence: Neutro\n",
      "' jornal premia os \"executivos de valor 2017\"' - valence: Neutro\n",
      "' ativistas contra os ovos de galinhas confinadas' - valence: Positivo\n",
      "' maduro convovca constituinte  e oposição denuncia golpe' - valence: Neutro\n",
      "' as revelações da ex-secretária de adriana ancelmo' - valence: Neutro\n",
      "' na cadeia  cunha lava as marmitas' - valence: Neutro\n",
      "' ataque deixa índios feridos' - valence: Neutro\n",
      "' temer cobra apoio da base para votar já a previdência' - valence: Neutro\n",
      "' cehab corre até risco de despejo' - valence: Neutro\n",
      "' prefeitura caça e pune fantasmas' - valence: Positivo\n",
      "' jovens estudam com medo' - valence: Positivo\n",
      "' brasileiros estão menos pessimistas com a economia' - valence: Neutro\n",
      "' debate sobre a previdência deve ir além do fiscal' - valence: Neutro\n",
      "' governo deve adiar votação na câmara da nova aposentadoria' - valence: Neutro\n",
      "' ataque fere mais de dez indígenas no maranhão' - valence: Neutro\n",
      "' agenda de ministro privilegia ruralistas e deixa índio de fora' - valence: Positivo\n",
      "' maduro convoca constituinte sem voto universal' - valence: Neutro\n",
      "' exportação alavanca empregos em 13 de 25 setores da economia' - valence: Neutro\n",
      "' 1º de maio tem protestos de centrais contra temer' - valence: Neutro\n",
      "' manoel pires: \"sem reforma é difícil ver alternativa\"' - valence: Neutro\n",
      "' cervejaria apontada como laranja doou a 81 políticos' - valence: Neutro\n",
      "' índio tem as mãos cortadas no maranhão' - valence: Neutro\n",
      "' mãe pega pena de 48 anos por torturar a filha' - valence: Neutro\n",
      "' trump aceita debater coreia com kim jong-un' - valence: Neutro\n",
      "' cesar cielo tenta retomar carreira' - valence: Neutro\n",
      "' temer joga tudo para barrar denúncia com votação alta' - valence: Neutro\n",
      "' juros caem e mercado já vê selic a 7 5%' - valence: Neutro\n",
      "' mp busca o apoio de ruralistas' - valence: Neutro\n",
      "' governo poupa  mas não pode gastar' - valence: Neutro\n",
      "' temer vai ao limite' - valence: Neutro\n",
      "' lula é réu no caso do sítio de atibaia' - valence: Neutro\n",
      "' onu e países reagem a maduro' - valence: Neutro\n",
      "' meta de 2018 pode ser revista' - valence: Neutro\n",
      "' em ofensiva  temer afaga ruralistas e o baixo clero' - valence: Neutro\n",
      "' lula se torna réu pela 6ª vez  agora no caso do sítio em sp' - valence: Neutro\n",
      "' justiça condena à prisão braço direito de abilio diniz' - valence: Neutro\n",
      "' chavismo volta a prender rivais do governo maduro' - valence: Neutro\n",
      "' temer faz corpo a corpo em busca de indefinidos' - valence: Neutro\n",
      "' lula vira réu pela 6ª vez  agora no caso do sítio de atibaia' - valence: Neutro\n",
      "' gilmar ataca janot e pede decência à pgr' - valence: Neutro\n",
      "' governo abre mão de r$ 5 4 bilhões com refis rural' - valence: Positivo\n",
      "' mercado de capitais já supera crédito do bndes' - valence: Neutro\n",
      "' inativo leva 40% da folha nos estados' - valence: Neutro\n",
      "' credores da oi defendem intervenção' - valence: Positivo\n",
      "' ue usa caso da carne para pedir abertura' - valence: Neutro\n",
      "' novo rotativo do cartão entra em vigor hoje' - valence: Positivo\n",
      "' país deve arrecadar r$ 24 bilhões com pré-sal' - valence: Neutro\n",
      "' lucro cresce  mas serviço de água e esgoto da cedae fica estagnado' - valence: Neutro\n",
      "' tse tem sido contra separação de chapa' - valence: Neutro\n",
      "' candidato de correa lidera apuração' - valence: Neutro\n",
      "' venezuela já fez 58 ataques à assembleia</p' - valence: Neutro\n",
      "' regra gera abismo entre datas de aposentadorias' - valence: Negativo\n",
      "' equador deixa governista em 1º após 94% dos votos apurados' - valence: Neutro\n",
      "' para maduro  mercosul critica de forma seletiva' - valence: Neutro\n",
      "' temor de mais repressão esvazia ruas de assunção' - valence: Neutro\n",
      "' doria zera fila de exames  e outra surge em seu lugar' - valence: Neutro\n",
      "' tst defende fim de cobrança obrigatória do imposto sindical' - valence: Neutro\n",
      "' ações da lava-jato pedem r$ 70 bilhões de indenização' - valence: Neutro\n",
      "' candidato de correa vence no equador  diz apuração oficial' - valence: Neutro\n",
      "' entra em vigor regra que limita juro do cartão' - valence: Neutro\n",
      "' pão de açúcar foca no atacarejo' - valence: Neutro\n",
      "' analistas já preveem dívida bruta acima de 80% do pib' - valence: Neutro\n",
      "' governo estuda outras medidas para previdência' - valence: Neutro\n",
      "' pib já se afastou da política  diz ceo da bosch' - valence: Neutro\n",
      "' segurança nacional dos eua ameaça comércio' - valence: Neutro\n",
      "' as gigantes se conectam às startups' - valence: Neutro\n",
      "' deloitte usa fraude no brasil para reforçar política de tolerância zero' - valence: Negativo\n",
      "' google dá 84 dias de licença paternidade' - valence: Neutro\n",
      "' proprietário já oferece até aluguel grátis por três meses' - valence: Neutro\n",
      "' planalto mapeia votos para evitar traições' - valence: Neutro\n",
      "' as flechas de janot' - valence: Neutro\n",
      "' jacob barata filho é preso' - valence: Negativo\n",
      "' trump volta a \"socar\" a imprensa' - valence: Neutro\n",
      "' a luta pela vida do bebê baleado' - valence: Neutro\n",
      "' missão de fé: o padre da cracolândia' - valence: Neutro\n",
      "' apoio à esquerda sobe e repõe empate ideológico' - valence: Neutro\n",
      "' mauro paulino: pesquisa mostra desalento e medo da sociedade' - valence: Positivo\n",
      "' tucanos criam dificuldades para doria na câmara' - valence: Neutro\n",
      "' jbs usava rede de mercados para ter dinheiro vivo' - valence: Neutro\n",
      "' delfim netto: brasil deixou poder privado controlar o poder político' - valence: Neutro\n",
      "' tiroteio em frente a mesquita fere ao menos 8 na frança' - valence: Neutro\n",
      "' crescem juros de crédito pessoal e de renegociação' - valence: Neutro\n",
      "' luiz felipe pondé: é preciso pensar na longevidade para além do marketing' - valence: Neutro\n",
      "' gasto federal deve crescer o dobro do permitido pela lei' - valence: Neutro\n",
      "' nenhum partido apoio a temer' - valence: Neutro\n",
      "' oms quer que vício em games seja distúrbio psiquiátrico' - valence: Neutro\n",
      "' trump faz vídeo de ataque à cnn' - valence: Neutro\n",
      "' do vinho de garrafão a prêmios no exterior' - valence: Neutro\n",
      "' arrecadação de impostos cai mais e dificulta ajuste' - valence: Neutro\n",
      "' são paulo dá sequência à venda da cesp' - valence: Neutro\n",
      "' eua autorizam confisco de bens da venezuela' - valence: Neutro\n",
      "' bancosw vão ao mpf fazer consulta sobre leniência' - valence: Neutro\n",
      "' estée lauder vê expansão no brasil no longo prazo' - valence: Neutro\n",
      "' psdb apoia temer para salvar aécio  diz reale' - valence: Neutro\n",
      "' de volta ao país  joesley falará de novo à pgr' - valence: Neutro\n",
      "' a primeira sentença pela \"ganância desmedida\"' - valence: Neutro\n",
      "' vítimas da crise e da corrupção tentam sobreviver' - valence: Neutro\n",
      "' em busca de apoio  temer negocia dívida de estados' - valence: Neutro\n",
      "' supremo mantém irmã de aécio na cadeia&nbsp;' - valence: Neutro\n",
      "' cunha depõe hoje em inquérito sobre temer' - valence: Neutro\n",
      "' contra a censura  notícias viajam' - valence: Positivo\n",
      "' com fgts  varejo volta a crescer' - valence: Positivo\n",
      "' entidades repudiam agressão a míriam' - valence: Positivo\n",
      "' tecnologia no dia a dia' - valence: Neutro\n",
      "' escândalo afasta dirigente do uber' - valence: Neutro\n",
      "' crivella e o samba: zero em harmonia' - valence: Negativo\n",
      "' sérgio cabral é condenado a 14 anos na lava-jato' - valence: Neutro\n",
      "' stf deve julgar pedido de prisão de aécio no dia 20' - valence: Neutro\n",
      "' marcelo coelho: toda a sociedade está em processo de desmoralização' - valence: Positivo\n",
      "' varejo surpreende e interrompe dois anos de retração' - valence: Positivo\n",
      "' temer prevê livros sem a versão final da vase curricular' - valence: Neutro\n",
      "' venezuela impede ativistas presos de contatarem defesa' - valence: Positivo\n",
      "' instituto de gilmar teve patrocínio de r4 2 1 mi da j&amp;f' - valence: Positivo\n",
      "' joesley retorna ao país e diz que não passeava em ny' - valence: Neutro\n",
      "' senado se recusa a afastar aécio; stf mantém irmã presa' - valence: Neutro\n",
      "' joesley está no país desde domingo' - valence: Neutro\n",
      "' relator quer mp do refis mais favorável a empresas' - valence: Neutro\n",
      "' moro condena cabral a 14 anos de prisão por corrupção' - valence: Neutro\n",
      "' rotina precária nos hospitais universitários do interior de sp' - valence: Neutro\n",
      "' a um ano da copa  só rússia  brasil e irã estão garantidos' - valence: Neutro\n",
      "' coreia do norte liberta americano' - valence: Neutro\n",
      "' azul amplia frota e oferta de voos' - valence: Neutro\n",
      "' incêndio em londres' - valence: Positivo\n",
      "' tlp provoca discórdias entre economistas e no governo' - valence: Neutro\n",
      "' adiado o fim da \"novela\" do déficit fiscal' - valence: Neutro\n",
      "' alternativas para privatizar distribuidoras' - valence: Positivo\n",
      "' cunha e palocci frustram investigadores' - valence: Neutro\n",
      "' pressão de aliados dificulta a revisão do rombo fiscal' - valence: Negativo\n",
      "' câmara tenta driblar fim das coligações' - valence: Neutro\n",
      "' direito de ir e vir à mercê do tráfico' - valence: Positivo\n",
      "' trump fala  mas não convence' - valence: Neutro\n",
      "' rio em crise tem um pm morto a cada dois dias' - valence: Neutro\n",
      "' disputa entre alas do governo adia anúncio da nova meta fiscal' - valence: Neutro\n",
      "' jbs divulga lucro 80% menor após acordo de delação' - valence: Positivo\n",
      "' relator recebia votos prontos  diz delator da zelotes' - valence: Positivo\n",
      "' mpf diz que joesley omitiu crime e quer cobrar r$ 1 bi' - valence: Neutro\n",
      "' insegurança afeta 1 em 3 empresas' - valence: Positivo\n",
      "' governo quer elevar alíquota previdenciária de servidores' - valence: Neutro\n",
      "' sob pressão  fazenda adia anúncio da meta' - valence: Neutro\n",
      "' depois de porto e aeroporto  governo privatiza ferrovia' - valence: Negativo\n",
      "' temer pode dobrar gaixa de isenção do ir' - valence: Neutro\n",
      "' \"sucessão em 2018 dificulta retomada\"  diz armínio fraga' - valence: Positivo\n",
      "' xp quer ser líder em cinco anos' - valence: Neutro\n",
      "' europol alerta para novo ciberataque' - valence: Positivo\n",
      "' tribunal é mais duro que moro' - valence: Neutro\n",
      "' a gestão incomum de norberto na dpaschoal&nbsp;' - valence: Positivo\n",
      "' estados vão privatizar empresas de gás natural' - valence: Neutro\n",
      "' guerras entre traficantes provocam êxodo em favelas' - valence: Positivo\n",
      "' é isso mesmo  temer?' - valence: Negativo\n",
      "' conflito entre órgãos pode frear delações' - valence: Neutro\n",
      "' macron promete um \"renascimento\"' - valence: Neutro\n",
      "' números mostram baixa eficácia da polícia paulista' - valence: Positivo\n",
      "' guido mantega: perdi minha reputação  minha vida virou um inferno' - valence: Neutro\n",
      "' conta para o pt teve r$ 324 milhões da odebrecht  dizem delatores' - valence: Negativo\n",
      "' reformas elevam dispersão na base de apoio a temer' - valence: Neutro\n",
      "' bolsonaro  em 1987  admitiu ato de indisciplina' - valence: Positivo\n",
      "' ruy castro: sem matemática  ninguém enfrentará mundo cibernético' - valence: Negativo\n",
      "' garços temem perder renda com nova lei das gorjetas' - valence: Positivo\n",
      "' procuradores preparam novo inquérito contra lula' - valence: Positivo\n",
      "' empreiteiros serãoouvidos sobre ações na américa latina' - valence: Neutro\n",
      "' presidente do bndes diz que banco quer saber se foi usado' - valence: Neutro\n",
      "' \"itaú não vai interferir\"  diz dono da xp' - valence: Neutro\n",
      "' macron faz promessa de \"frança forte\"' - valence: Positivo\n",
      "' mãe recupera guarda de filho levado aos eua' - valence: Neutro\n",
      "' gato com fuzi em sp cresce 73 vezes ' - valence: Neutro\n",
      "' ataque cibernético já atige 150 países' - valence: Neutro\n",
      "' lista de janot tem cinco ministros  maia e eunício' - valence: Neutro\n",
      "' governo define proposta para umaq nova tjlp' - valence: Neutro\n",
      "' mais tempo para votar a previdência' - valence: Neutro\n",
      "' arrecadação teve alta real em fevereiro' - valence: Positivo\n",
      "' takeda muda comando no brasil e mira aquisições' - valence: Neutro\n",
      "' a nova aposta da jbs nos eua' - valence: Neutro\n",
      "' alemanha propõe rigor e multa para notícia falsa' - valence: Neutro\n",
      "' lista de janot inclui lula  dilma  aécio  serra  maia  eunício  padilha  kassab  moreira  aloysio  renan  jucá  palocci  mantega  lobão' - valence: Neutro\n",
      "' \"estamos na guerra\"  diz senador' - valence: Neutro\n",
      "' editorial: prêmios excessivos a delações na lava-jato' - valence: Neutro\n",
      "' partidos e tse querem fundo para eleições' - valence: Neutro\n",
      "' dois são presos por propina na linha 4 do metrô' - valence: Positivo\n",
      "' pezão desiste de nomear ré da lava-jato' - valence: Neutro\n",
      "' crivella desiste de nomear irmão de freixo' - valence: Neutro\n",
      "' temer pode desistir de políticos para itaipu' - valence: Neutro\n",
      "' desigualdade sobe com piora no emprego' - valence: Neutro\n",
      "' conta da light aumenta 9 8% a partir de hoje' - valence: Neutro\n",
      "' tratamento contra câncer é falho no rio' - valence: Positivo\n",
      "' febre amarela: um milhão já foi vacinado' - valence: Positivo\n",
      "' alemanha quer multar por notícias falsas' - valence: Neutro\n",
      "' holanda vai às urnas com 60% de indecisos' - valence: Positivo\n",
      "' lista de janot inclui 5 ministros de temer  além de lula e aécio' - valence: Neutro\n",
      "' ex-presidente depõe e diz que é vítima de \"quase um massacre\"' - valence: Neutro\n",
      "' citados preveem fase crítica por até quatro meses' - valence: Neutro\n",
      "' bernardo mello franco: pedido cai como bomba nuclear na capital federal' - valence: Neutro\n",
      "' casos de suspeita de dengue e zika caem  em média  90% no ano' - valence: Neutro\n",
      "' protesto contra reformas deve parar ônibus e metrô' - valence: Neutro\n",
      "' tempestade cobre ny de neve e finda primavera precoce' - valence: Neutro\n",
      "' eleição holandesa gera ansiedade entre imigrantes' - valence: Negativo\n",
      "' janot pede investigação de lula  dilma e 5 ministros de temer' - valence: Neutro\n",
      "' gasto com salário de servidores 10% e supera teto' - valence: Negativo\n",
      "' governo ignora se 2/3 dos casos são febre amarela' - valence: Positivo\n",
      "' fisco cobra multa extra de quem aderiu à repatriação' - valence: Neutro\n",
      "' resistência jurídica pode parar trump' - valence: Neutro\n",
      "' morre edson bueno  73  um empreendedor da saúde' - valence: Neutro\n",
      "' crédito parcelado do cartão custará mais de 154% ao ano' - valence: Neutro\n",
      "' toshiba encolhe  perde us$ 6 3 bi e pede desculpas' - valence: Neutro\n",
      "' dinheiro sumiu para blocos de carnaval do rio' - valence: Neutro\n",
      "' saque do fgts ajudará na retomada' - valence: Positivo\n",
      "' celso de mello defende stf e mantém moreira ministro' - valence: Neutro\n",
      "' velloso pode comandar a justiça' - valence: Negativo\n",
      "' rombo no caixa do rio só cresce' - valence: Neutro\n",
      "' a lavanderia e as joias de cabral' - valence: Neutro\n",
      "' joesley: \"isso não vai adiante\"' - valence: Negativo\n",
      "' ligações russas sob investigação' - valence: Neutro\n",
      "' obituário: edson bueno  fundador da amil' - valence: Neutro\n",
      "' doria inclui mais pobres e tira jovens do leve leite' - valence: Neutro\n",
      "' temer afirma que não é inimigo nem censor da imprensa' - valence: Neutro\n",
      "' bernardo mello franco: beijão-mão expõe moraes a cenas constrangedoras' - valence: Neutro\n",
      "' celso de mello  do stf  mantém moreira franco em ministério' - valence: Neutro\n",
      "' conselheiro pede demissão  e trump sofre a 1ª baixa' - valence: Neutro\n",
      "' presidente da j&amp;f diz que não deixará chefia da empresa' - valence: Neutro\n",
      "' tire suas dúvidas sobre calendário e como sacar o dinehiro do fgts' - valence: Neutro\n",
      "'  supremo mantém moreira franco ministro e com foro' - valence: Neutro\n",
      "' em dez anos  exército atuou em estados em 1 a cada 3 dias' - valence: Positivo\n",
      "' câmara de sp aprova multa para pichadores' - valence: Neutro\n",
      "' rússia causa demissão no alto escalão de trump' - valence: Neutro\n",
      "' enfarte mata edson bueno  fundador da amil' - valence: Neutro\n",
      "' dólar cai para r$ 3 09  menor valor desde 2015' - valence: Neutro\n",
      "' dobra o otimismo de ceos e bradesco vê início de virada' - valence: Positivo\n",
      "' moodys deve melhorar nota da petrobras' - valence: Neutro\n",
      "' analistas veem aumento das importações' - valence: Negativo\n",
      "' óculos e lentes se unem em negócio de us$ 49 bilhões' - valence: Neutro\n",
      "' polícia de sp alerta para ataque do pcc' - valence: Neutro\n",
      "' alemanha reagirá a guerra fiscal' - valence: Neutro\n",
      "' rolls royce vai pagar us$ 26 mi à petrobras' - valence: Neutro\n",
      "' basquete quer voltar a ser o segundo esporte do país' - valence: Neutro\n",
      "' prisão rebelada tem presos fora das celas desde 2015' - valence: Positivo\n",
      "' críticas de trump provocam forte reação da europa' - valence: Neutro\n",
      "' o poder mora ao lado' - valence: Neutro\n",
      "' febre amarela avança para o litoral' - valence: Positivo\n",
      "' rolls-royce vai devolver r$ 2 6 bi' - valence: Neutro\n",
      "' merendeira vai gerir transportes' - valence: Negativo\n",
      "' tem dendê na folia' - valence: Neutro\n",
      "' estados pressionam temer por papel da força nacional' - valence: Neutro\n",
      "' hélio shwartsman: é preciso prender menos e legalizar o uso de drogas' - valence: Positivo\n",
      "' rolls-royce admite ter pago propina e devolverá r$ 83 mi' - valence: Neutro\n",
      "' união teve perda menor de receita no final de 2016' - valence: Positivo\n",
      "' chefe do bradesco vê reação mais forte do brasil em 2018' - valence: Neutro\n",
      "' demoratas vão boicotar a posse de donald trump' - valence: Neutro\n",
      "' anvisa aprova o 1º medicamento à base de maconha' - valence: Neutro\n",
      "' 62 municípios decretam calamidade em busca de recursos' - valence: Negativo\n",
      "' aeronáutica quer privatizar controle do tráfego aéreo' - valence: Neutro\n",
      "' executivos estão confiantes  mas não pretendem contratar' - valence: Positivo\n",
      "' minas investiga 47 mortes por febre amarela' - valence: Positivo\n",
      "' candidatos na câmara apoiam lei de abuso' - valence: Positivo\n",
      "' stf interpela maia sobre reeleição' - valence: Neutro\n",
      "' ue e otan reagem a ataques de trump' - valence: Neutro\n",
      "' anvisa libera remédio derivado da maconha' - valence: Positivo\n",
      "' governo deve retomar agenda para aviação' - valence: Neutro\n",
      "' crédito rural passa por “apertos”' - valence: Positivo\n",
      "' delações trazem mapa das contrapartidas a doações' - valence: Positivo\n",
      "' legislativo criou balcão de venda de mps' - valence: Neutro\n",
      "' depoimentos aumentam cisão no pt' - valence: Neutro\n",
      "' odebrecht ameaçou dilma por proteção' - valence: Neutro\n",
      "' moro deve julgar temer após mandato' - valence: Neutro\n",
      "' investigados no stf podem ter penas de até 22 anos' - valence: Neutro\n",
      "' \"padrinhos\" da odebrecht evitavam conflitos' - valence: Neutro\n",
      "' erdogan vence sob contestação' - valence: Neutro\n",
      "' ataque suicida matou 80 crianças' - valence: Neutro\n",
      "' área do planetário vai a leilão amanhã' - valence: Neutro\n",
      "' prefeitura quer verticalizar favela' - valence: Neutro\n",
      "' plebiscito dá superpoder ao presidente da turquia' - valence: Neutro\n",
      "' repasse ilícito da odebrecht se manteve mesmo com lava-jato' - valence: Neutro\n",
      "' oab pressiona stf a convocar juízes auxiliares para acelerar apuração' - valence: Neutro\n",
      "' elmar nascimento: rezo todos os dias para não ter que cassar nenhum colega' - valence: Neutro\n",
      "' embaixada do brasil cria plano de fuga da coreia' - valence: Neutro\n",
      "' idade mínima da aposentadoria deve subir a cada 2 anos' - valence: Neutro\n",
      "' nelson barbosa: corte de gastas ameaça retomada da economia' - valence: Neutro\n",
      "' embaixada do brasil cria plano de fuga da coreia' - valence: Neutro\n",
      "' maioria dos inquéritos abertos pelo supremo investigará \"achaques\"' - valence: Neutro\n",
      "' o eleitor paga a conta da propina' - valence: Neutro\n",
      "' turquia aprova mais poderes para erdogan em referendo' - valence: Neutro\n",
      "' vice dos eua vai a seul tratar de crise' - valence: Neutro\n",
      "' pf indicia 63 suspeitos na operação carne fraca' - valence: Positivo\n",
      "' novatos reeditam polarização na câmara' - valence: Neutro\n",
      "' reforma mantém privilégio de setores na previdência' - valence: Neutro\n",
      "' \"efeito uber\" tira clientes de valet e estacionamentos' - valence: Neutro\n",
      "' exportação de veículos tem impulso frágil' - valence: Positivo\n",
      "' permuta entre shell e cosan na comgás' - valence: Positivo\n",
      "' novo impasse divide oi  credores e anatel' - valence: Positivo\n",
      "' china retalia países que pressionam por abertura' - valence: Neutro\n",
      "' royalties da mineração vão aumentar' - valence: Neutro\n",
      "' chineses planejam investir r$ 32 bi no rio' - valence: Neutro\n",
      "' supremo homologa delação da odebrecht  mas mantém sigilo' - valence: Neutro\n",
      "' contas inativas do fgts devem injetar r$ 41 bi na economia' - valence: Neutro\n",
      "' trump demite secretária que questionou veto' - valence: Neutro\n",
      "' contas do govertno têm maior rombo da história' - valence: Neutro\n",
      "' doria congela r$ 2 6 bi de saúde e educação' - valence: Neutro\n",
      "' febre amarela: país tem 120 casos e investiga 623' - valence: Neutro\n",
      "' pacote de temer tenta agradar a trabalhadores e empresários' - valence: Neutro\n",
      "' presidente afirma que não pensa em renunciar ao cargo' - valence: Neutro\n",
      "' assad retoma aleppo e obtém a maior vitória na guerra síria' - valence: Neutro\n",
      "' odebrecht diz ter agido para manter influência de lula' - valence: Neutro\n",
      "' exército admite que militar foi infiltrado em ato contra o governo' - valence: Positivo\n",
      "' temer libera saque total das contas inativas do fgts' - valence: Neutro\n",
      "' acordo terá força de lei na área trabalhista' - valence: Positivo\n",
      "' não tirarei o padilha\"  diz temer' - valence: Neutro\n",
      "' cabral e mulher viajavam para o exterior três vezes por mês' - valence: Positivo\n",
      "' odebrecht deu r$ 50 mi para eleição de dilma  indicam eua' - valence: Neutro\n",
      "' reforma moderniza lei e dá mais poder a sindicatos' - valence: Neutro\n",
      "' eua vão fiscalizar odebrecht e braskem' - valence: Neutro\n",
      "' temer: nunca caí de pinguela' - valence: Neutro\n",
      "' saque do fgts não terá limite' - valence: Negativo\n",
      "' violência no rio: assassinatos sobem 41 37%' - valence: Neutro\n",
      "' chico volta atual nas letras e clássico nas canções' - valence: Neutro\n",
      "' cena contemporânea chega a maioridade com peças de quatro países' - valence: Positivo\n",
      "' show marca amizade entre rico dalasam e russo passapusso' - valence: Negativo\n",
      "' “corpo elétrico” fala sobre amor e liberdade sem fazer análises morais' - valence: Neutro\n",
      "' as 30 melhores séries de todos os tempos segundo a rolling stone' - valence: Neutro\n",
      "' morgan freeman receberá prêmio honorário do sindicato dos atores' - valence: Neutro\n",
      "' bbc elege as 100 melhores comédias de todos os tempos' - valence: Neutro\n",
      "' festival de brasília divulga programação da edição 2017' - valence: Positivo\n",
      "' morrissey volta com novo álbum  fiel às críticas políticas' - valence: Positivo\n",
      "' taylor swift anuncia novo álbum “reputation”  uma semana após vitória na justiça' - valence: Neutro\n",
      "' batalhão da pm vira abrigo em tiroteio na linha vermelha' - valence: Positivo\n",
      "' oposição ganha apoio em massa na venezuela' - valence: Neutro\n",
      "' fundo da cedae é investigado' - valence: Positivo\n",
      "' dilma gastou mais depois do mandato' - valence: Negativo\n",
      "' teto a todo aposentado geraria r$ 50 bi por ano' - valence: Neutro\n",
      "' temer usará reformas para se fortalecer contra denúncia' - valence: Positivo\n",
      "' celso souza barros: esquerda precisa viver sem a ideia de lula no páreo' - valence: Neutro\n",
      "' isabela  mulher de odebrecht  vira personagem na carceragem da pf' - valence: Neutro\n",
      "' atuação de trump contraria empresas e afeta mercados' - valence: Neutro\n",
      "' despesas da união tiveram aumento real' - valence: Neutro\n",
      "' planalto teme vazamento aós homologações' - valence: Neutro\n",
      "' eike é preso e empresas se explicam' - valence: Neutro\n",
      "' chaim zaher recompra o sistema pureri domus' - valence: Positivo\n",
      "' macri restringe imigração e causa polêmica' - valence: Negativo\n",
      "' ao alcance da lei: eike está em bangu e deve delatar' - valence: Neutro\n",
      "' confissões da odebrecht já valem' - valence: Neutro\n",
      "' canetadas de trump deixam os eua isolados' - valence: Neutro\n",
      "' empresas e bolsas reagem a barreiras para imigrantes' - valence: Neutro\n",
      "' cármen lúcia quer sortear relatoria entre 5 ministros' - valence: Neutro\n",
      "' hélio schwartsman: lava-jato deve se converter no novo normal do país' - valence: Neutro\n",
      "' govwerno teve déficit recorde de r$ 154 2 bi no ano passado' - valence: Neutro\n",
      "' eike se entrega e indca que vai colaborar com investigações' - valence: Neutro\n",
      "' decreto de trump deflagra batalhas política e jurídica' - valence: Negativo\n",
      "' ataque a mesquita no canadá deixa ao menos seis mortos' - valence: Neutro\n",
      "' em um mês  doria prioriza centro de sp e zeladoria' - valence: Positivo\n",
      "' supremo homologa delação da odebrecht  mas mantém sigilo' - valence: Neutro\n",
      "' contas inativas do fgts devem injetar r$ 41 bi na economia' - valence: Neutro\n",
      "' trump demite secretária que questionou veto' - valence: Neutro\n",
      "' contas do govertno têm maior rombo da história' - valence: Neutro\n",
      "' doria congela r$ 2 6 bi de saúde e educação' - valence: Neutro\n",
      "' febre amarela: país tem 120 casos e investiga 623' - valence: Neutro\n",
      "' fernando haddad: pt e psdb se mantiveram reféns do atraso' - valence: Negativo\n",
      "' plebiscito na venezuela atrai eleitores contra gestão maduro' - valence: Neutro\n",
      "' colômbia tenta convencer cuba a mediar crise no país vizinho' - valence: Neutro\n",
      "' atendimento a baleados dispara em hospital do rio' - valence: Positivo\n",
      "' dívida de inadimplentes supera em três vezes o salário' - valence: Neutro\n",
      "' ferrogrão ganha um concorrente' - valence: Positivo\n",
      "' marina: candidatura hesitante' - valence: Neutro\n"
     ]
    }
   ],
   "source": [
    "for i in range(500):\n",
    "    print(\"'\" + sentences[i] + \"' - valence: \" + prediction[i])"
   ]
  },
  {
   "cell_type": "code",
   "execution_count": null,
   "metadata": {
    "collapsed": false
   },
   "outputs": [],
   "source": [
    "datasetInFrame['Valência'] = pd.Series(prediction, index=datasetInFrame.index)\n"
   ]
  },
  {
   "cell_type": "code",
   "execution_count": 240,
   "metadata": {
    "collapsed": false
   },
   "outputs": [],
   "source": [
    "for row in datasetInFrame:\n",
    "    row['']"
   ]
  },
  {
   "cell_type": "markdown",
   "metadata": {},
   "source": [
    "# Discussion and Conclusion\n",
    "The model selected \n",
    "I spent a lot of time working with NLTK, I used the examples in English and I tried to adapt to Portuguese.\n",
    "Problemas com a implementação\n",
    "Vocabulários com labels\n",
    "Tweets não tem a mesma formalidade do Jornal\n",
    "Aparentemente mais acertos com positivo\n",
    "O modelo não considera relacionamento entre as palavras"
   ]
  },
  {
   "cell_type": "markdown",
   "metadata": {},
   "source": []
  },
  {
   "cell_type": "markdown",
   "metadata": {},
   "source": [
    "# References"
   ]
  },
  {
   "cell_type": "markdown",
   "metadata": {
    "collapsed": true
   },
   "source": [
    "Python Text Processing with NLTK 2.0 Cookbook\n",
    "\n",
    "http://blog.chapagain.com.np/machine-learning-sentiment-analysis-text-classification-using-python-nltk/\n"
   ]
  }
 ],
 "metadata": {
  "kernelspec": {
   "display_name": "Python 3",
   "language": "python",
   "name": "python3"
  },
  "language_info": {
   "codemirror_mode": {
    "name": "ipython",
    "version": 3
   },
   "file_extension": ".py",
   "mimetype": "text/x-python",
   "name": "python",
   "nbconvert_exporter": "python",
   "pygments_lexer": "ipython3",
   "version": "3.6.0"
  }
 },
 "nbformat": 4,
 "nbformat_minor": 2
}
